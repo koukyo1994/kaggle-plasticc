{
 "cells": [
  {
   "cell_type": "code",
   "execution_count": 1,
   "metadata": {},
   "outputs": [],
   "source": [
    "using DataFrames\n",
    "using Clustering"
   ]
  },
  {
   "cell_type": "code",
   "execution_count": 2,
   "metadata": {},
   "outputs": [],
   "source": [
    "using CSV\n",
    "using ProgressMeter"
   ]
  },
  {
   "cell_type": "code",
   "execution_count": 3,
   "metadata": {},
   "outputs": [
    {
     "data": {
      "text/plain": [
       "elbow (generic function with 1 method)"
      ]
     },
     "execution_count": 3,
     "metadata": {},
     "output_type": "execute_result"
    }
   ],
   "source": [
    "function elbow(d)\n",
    "    data = reshape(coalesce.(d.mjd, 0), (1, size(d.mjd)[1]))\n",
    "    kms = [kmeans(data, i) for i in 2:5]\n",
    "    costs = [km.totalcost for km in kms]\n",
    "    diff1 = costs[1] - costs[2]\n",
    "    diff2 = costs[2] - costs[3]\n",
    "    diff3 = costs[3] - costs[4]\n",
    "    if diff1 / diff2 > diff2 / diff3\n",
    "        return kms[2].assignments\n",
    "    else\n",
    "        return kms[3].assignments\n",
    "    end\n",
    "end\n",
    "    "
   ]
  },
  {
   "cell_type": "code",
   "execution_count": 4,
   "metadata": {},
   "outputs": [
    {
     "data": {
      "text/plain": [
       "add_cluster (generic function with 1 method)"
      ]
     },
     "execution_count": 4,
     "metadata": {},
     "output_type": "execute_result"
    }
   ],
   "source": [
    "function add_cluster(df)\n",
    "    clustered = by(df, :object_id, elbow)\n",
    "    df[:cluster] = clustered[:, :x1]\n",
    "    df\n",
    "end"
   ]
  },
  {
   "cell_type": "code",
   "execution_count": 5,
   "metadata": {},
   "outputs": [
    {
     "name": "stderr",
     "output_type": "stream",
     "text": [
      "┌ Warning: indexing with colon as row will create a copy in the future use df[col_inds] to get the columns without copying\n",
      "│   caller = add_cluster(::DataFrame) at In[4]:3\n",
      "└ @ Main ./In[4]:3\n"
     ]
    },
    {
     "name": "stdout",
     "output_type": "stream",
     "text": [
      "warning: failed parsing Int64 on row=3653695, col=1, error=INVALID: SENTINEL, DELIMITED, INVALID_DELIMITER\n",
      "warning: failed parsing Float64 on row=3653695, col=2, error=INVALID: SENTINEL, DELIMITED, INVALID_DELIMITER\n",
      "warning: failed parsing Int64 on row=3653695, col=3, error=INVALID: SENTINEL, DELIMITED, INVALID_DELIMITER\n",
      "warning: failed parsing Float64 on row=3653695, col=4, error=INVALID: SENTINEL, DELIMITED, INVALID_DELIMITER\n",
      "warning: failed parsing Float64 on row=3653695, col=5, error=INVALID: SENTINEL, DELIMITED, INVALID_DELIMITER\n",
      "warning: failed parsing Int64 on row=3653695, col=6, error=INVALID: SENTINEL, NEWLINE, INVALID_DELIMITER\n"
     ]
    },
    {
     "ename": "ArgumentError",
     "evalue": "ArgumentError: unable to check bounds for indices of type Missing",
     "output_type": "error",
     "traceback": [
      "ArgumentError: unable to check bounds for indices of type Missing",
      "",
      "Stacktrace:",
      " [1] checkindex(::Type{Bool}, ::Base.OneTo{Int64}, ::Missing) at ./abstractarray.jl:504",
      " [2] checkindex at ./abstractarray.jl:519 [inlined]",
      " [3] checkbounds at ./abstractarray.jl:434 [inlined]",
      " [4] checkbounds at ./abstractarray.jl:449 [inlined]",
      " [5] _getindex at ./multidimensional.jl:588 [inlined]",
      " [6] getindex(::Array{Union{Missing, Int64},1}, ::Array{Missing,1}) at ./abstractarray.jl:905",
      " [7] getindex(::DataFrame, ::Array{Missing,1}, ::Colon) at /home/hidehisa/.julia/packages/DataFrames/1PqZ3/src/dataframe/dataframe.jl:322",
      " [8] top-level scope at ./In[5]:6"
     ]
    },
    {
     "name": "stderr",
     "output_type": "stream",
     "text": [
      "WARNING: both Clustering and InteractiveUtils export \"varinfo\"; uses of it in module Main must be qualified\n"
     ]
    }
   ],
   "source": [
    "headrow = 2\n",
    "limit = 50000000\n",
    "test = CSV.File(\"/home/hidehisa/.kaggle/competitions/plasticc/test_set.csv\"; header=1, skipto=headrow, limit=limit) |> DataFrame\n",
    "while size(test)[1] > 0\n",
    "    last_id = unique(test.object_id)[end]\n",
    "    len_last = size(test[test.object_id .== last_id, :])[1]\n",
    "    test = test[1:limit-len_last, :]\n",
    "    clustered = add_cluster(test)\n",
    "    endrow = headrow + limit-len_last\n",
    "    CSV.write(\"test_with_cluster_$(headrow)_$(endrow).csv\", clustered)\n",
    "    headrow = endrow + 1\n",
    "    test = CSV.File(\"/home/hidehisa/.kaggle/competitions/plasticc/test_set.csv\"; header=1, skipto=headrow, limit=limit) |> DataFrame\n",
    "end"
   ]
  },
  {
   "cell_type": "code",
   "execution_count": 6,
   "metadata": {},
   "outputs": [
    {
     "data": {
      "text/plain": [
       "449999412"
      ]
     },
     "execution_count": 6,
     "metadata": {},
     "output_type": "execute_result"
    }
   ],
   "source": [
    "headrow"
   ]
  },
  {
   "cell_type": "code",
   "execution_count": 7,
   "metadata": {},
   "outputs": [
    {
     "data": {
      "text/plain": [
       "104853812"
      ]
     },
     "execution_count": 7,
     "metadata": {},
     "output_type": "execute_result"
    }
   ],
   "source": [
    "test = CSV.File(\"/home/hidehisa/.kaggle/competitions/plasticc/test_set.csv\"; header=1, skipto=headrow) |> DataFrame\n",
    "last_id = unique(test.object_id)[end]"
   ]
  },
  {
   "cell_type": "code",
   "execution_count": 8,
   "metadata": {},
   "outputs": [
    {
     "data": {
      "text/plain": [
       "(3653694, 6)"
      ]
     },
     "execution_count": 8,
     "metadata": {},
     "output_type": "execute_result"
    }
   ],
   "source": [
    "size(test)"
   ]
  },
  {
   "cell_type": "code",
   "execution_count": 9,
   "metadata": {},
   "outputs": [
    {
     "data": {
      "text/plain": [
       "\"test_with_cluster_449999412_end.csv\""
      ]
     },
     "execution_count": 9,
     "metadata": {},
     "output_type": "execute_result"
    }
   ],
   "source": [
    "clustered = add_cluster(test)\n",
    "CSV.write(\"test_with_cluster_$(headrow)_end.csv\", clustered)"
   ]
  },
  {
   "cell_type": "code",
   "execution_count": null,
   "metadata": {},
   "outputs": [],
   "source": []
  }
 ],
 "metadata": {
  "kernelspec": {
   "display_name": "Julia 1.0.0",
   "language": "julia",
   "name": "julia-1.0"
  },
  "language_info": {
   "file_extension": ".jl",
   "mimetype": "application/julia",
   "name": "julia",
   "version": "1.0.0"
  }
 },
 "nbformat": 4,
 "nbformat_minor": 2
}
