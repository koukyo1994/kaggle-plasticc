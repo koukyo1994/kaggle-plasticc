{
 "cells": [
  {
   "cell_type": "code",
   "execution_count": 1,
   "metadata": {},
   "outputs": [],
   "source": [
    "using DataFrames\n",
    "using Clustering"
   ]
  },
  {
   "cell_type": "code",
   "execution_count": 2,
   "metadata": {},
   "outputs": [],
   "source": [
    "using CSV\n",
    "using ProgressMeter"
   ]
  },
  {
   "cell_type": "code",
   "execution_count": 3,
   "metadata": {},
   "outputs": [
    {
     "data": {
      "text/plain": [
       "elbow (generic function with 1 method)"
      ]
     },
     "execution_count": 3,
     "metadata": {},
     "output_type": "execute_result"
    }
   ],
   "source": [
    "function elbow(d)\n",
    "    data = reshape(coalesce.(d.mjd, 0), (1, size(d.mjd)[1]))\n",
    "    kms = [kmeans(data, i) for i in 2:5]\n",
    "    costs = [km.totalcost for km in kms]\n",
    "    diff1 = costs[1] - costs[2]\n",
    "    diff2 = costs[2] - costs[3]\n",
    "    diff3 = costs[3] - costs[4]\n",
    "    if diff1 / diff2 > diff2 / diff3\n",
    "        return kms[2].assignments\n",
    "    else\n",
    "        return kms[3].assignments\n",
    "    end\n",
    "end\n",
    "    "
   ]
  },
  {
   "cell_type": "code",
   "execution_count": 4,
   "metadata": {},
   "outputs": [
    {
     "data": {
      "text/plain": [
       "add_cluster (generic function with 1 method)"
      ]
     },
     "execution_count": 4,
     "metadata": {},
     "output_type": "execute_result"
    }
   ],
   "source": [
    "function add_cluster(df)\n",
    "    clustered = by(df, :object_id, elbow)\n",
    "    df[:cluster] = clustered[:, :x1]\n",
    "    df\n",
    "end"
   ]
  }
 ],
 "metadata": {
  "kernelspec": {
   "display_name": "Julia 1.0.0",
   "language": "julia",
   "name": "julia-1.0"
  },
  "language_info": {
   "file_extension": ".jl",
   "mimetype": "application/julia",
   "name": "julia",
   "version": "1.0.0"
  }
 },
 "nbformat": 4,
 "nbformat_minor": 2
}
