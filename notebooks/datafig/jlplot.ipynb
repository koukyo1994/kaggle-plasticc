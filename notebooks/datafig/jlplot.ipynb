{
 "cells": [
  {
   "cell_type": "code",
   "execution_count": 2,
   "metadata": {},
   "outputs": [
    {
     "name": "stderr",
     "output_type": "stream",
     "text": [
      "┌ Info: Recompiling stale cache file /Users/hidehisa/.julia/compiled/v1.0/DataFrames/AR9oZ.ji for DataFrames [a93c6f00-e57d-5684-b7b6-d8193f3e46c0]\n",
      "└ @ Base loading.jl:1190\n",
      "┌ Info: Recompiling stale cache file /Users/hidehisa/.julia/compiled/v1.0/CSV/HHBkp.ji for CSV [336ed68f-0bac-5ca0-87d4-7b16caf5d00b]\n",
      "└ @ Base loading.jl:1190\n"
     ]
    }
   ],
   "source": [
    "using Plots\n",
    "using DataFrames\n",
    "using CSV"
   ]
  },
  {
   "cell_type": "code",
   "execution_count": 3,
   "metadata": {},
   "outputs": [
    {
     "data": {
      "text/html": [
       "<table class=\"data-frame\"><thead><tr><th></th><th>object_id</th><th>mjd</th><th>passband</th><th>flux</th><th>flux_err</th><th>detected</th></tr><tr><th></th><th>Int64⍰</th><th>Float64⍰</th><th>Int64⍰</th><th>Float64⍰</th><th>Float64⍰</th><th>Int64⍰</th></tr></thead><tbody><tr><th>1</th><td>615</td><td>59750.4</td><td>2</td><td>-544.81</td><td>3.62295</td><td>1</td></tr><tr><th>2</th><td>615</td><td>59750.4</td><td>1</td><td>-816.434</td><td>5.55337</td><td>1</td></tr><tr><th>3</th><td>615</td><td>59750.4</td><td>3</td><td>-471.386</td><td>3.80121</td><td>1</td></tr><tr><th>4</th><td>615</td><td>59750.4</td><td>4</td><td>-388.985</td><td>11.395</td><td>1</td></tr><tr><th>5</th><td>615</td><td>59752.4</td><td>2</td><td>-681.859</td><td>4.0412</td><td>1</td></tr><tr><th>6</th><td>615</td><td>59752.4</td><td>1</td><td>-1061.46</td><td>6.47299</td><td>1</td></tr></tbody></table>"
      ],
      "text/latex": [
       "\\begin{tabular}{r|cccccc}\n",
       "\t& object\\_id & mjd & passband & flux & flux\\_err & detected\\\\\n",
       "\t\\hline\n",
       "\t1 & 615 & 59750.4 & 2 & -544.81 & 3.62295 & 1 \\\\\n",
       "\t2 & 615 & 59750.4 & 1 & -816.434 & 5.55337 & 1 \\\\\n",
       "\t3 & 615 & 59750.4 & 3 & -471.386 & 3.80121 & 1 \\\\\n",
       "\t4 & 615 & 59750.4 & 4 & -388.985 & 11.395 & 1 \\\\\n",
       "\t5 & 615 & 59752.4 & 2 & -681.859 & 4.0412 & 1 \\\\\n",
       "\t6 & 615 & 59752.4 & 1 & -1061.46 & 6.47299 & 1 \\\\\n",
       "\\end{tabular}\n"
      ],
      "text/plain": [
       "6×6 DataFrame\n",
       "│ Row │ object_id │ mjd      │ passband │ flux     │ flux_err │ detected │\n",
       "│     │ \u001b[90mInt64⍰\u001b[39m    │ \u001b[90mFloat64⍰\u001b[39m │ \u001b[90mInt64⍰\u001b[39m   │ \u001b[90mFloat64⍰\u001b[39m │ \u001b[90mFloat64⍰\u001b[39m │ \u001b[90mInt64⍰\u001b[39m   │\n",
       "├─────┼───────────┼──────────┼──────────┼──────────┼──────────┼──────────┤\n",
       "│ 1   │ 615       │ 59750.4  │ 2        │ -544.81  │ 3.62295  │ 1        │\n",
       "│ 2   │ 615       │ 59750.4  │ 1        │ -816.434 │ 5.55337  │ 1        │\n",
       "│ 3   │ 615       │ 59750.4  │ 3        │ -471.386 │ 3.80121  │ 1        │\n",
       "│ 4   │ 615       │ 59750.4  │ 4        │ -388.985 │ 11.395   │ 1        │\n",
       "│ 5   │ 615       │ 59752.4  │ 2        │ -681.859 │ 4.0412   │ 1        │\n",
       "│ 6   │ 615       │ 59752.4  │ 1        │ -1061.46 │ 6.47299  │ 1        │"
      ]
     },
     "execution_count": 3,
     "metadata": {},
     "output_type": "execute_result"
    }
   ],
   "source": [
    "train = CSV.read(\"/Users/hidehisa/.kaggle/competitions/plasticc/training_set.csv\")\n",
    "head(train)"
   ]
  },
  {
   "cell_type": "code",
   "execution_count": null,
   "metadata": {},
   "outputs": [],
   "source": []
  }
 ],
 "metadata": {
  "kernelspec": {
   "display_name": "Julia 1.0.0",
   "language": "julia",
   "name": "julia-1.0"
  },
  "language_info": {
   "file_extension": ".jl",
   "mimetype": "application/julia",
   "name": "julia",
   "version": "1.0.2"
  }
 },
 "nbformat": 4,
 "nbformat_minor": 2
}
