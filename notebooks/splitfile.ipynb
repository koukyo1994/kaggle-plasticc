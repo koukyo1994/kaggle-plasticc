{
 "cells": [
  {
   "cell_type": "code",
   "execution_count": 1,
   "metadata": {},
   "outputs": [],
   "source": [
    "import pandas as pd"
   ]
  },
  {
   "cell_type": "code",
   "execution_count": 2,
   "metadata": {},
   "outputs": [],
   "source": [
    "indices = [(2, 49999913), (49999914, 99999902), (99999903, 149999831), (149999832, 199999735),\n",
    "           (199999736, 249999654), (249999655, 299999649), (299999650, 349999619), (349999620, 399999534),\n",
    "           (399999535, 449999411), (449999412, \"end\")]\n",
    "test_files = [f\"test_with_cluster_{e[0]}_{e[1]}.csv\" for e in indices]"
   ]
  },
  {
   "cell_type": "code",
   "execution_count": 3,
   "metadata": {},
   "outputs": [],
   "source": [
    "for i, f in zip(indices, test_files):\n",
    "    df = pd.read_csv(f)\n",
    "    n_half = df.object_id.nunique() // 2\n",
    "    before_idx = df.object_id.unique()[:n_half].tolist()\n",
    "    after_idx = df.object_id.unique()[n_half:].tolist()\n",
    "    \n",
    "    before = df.query(\"object_id in @before_idx\")\n",
    "    after = df.query(\"object_id in @after_idx\")\n",
    "    nrow_before = before.shape[0]\n",
    "    name_before = f\"test_{i[0]}_{i[0]+nrow_before}.csv\"\n",
    "    name_after = f\"test_{i[0]+nrow_before+1}_{i[1]}.csv\"\n",
    "    before.to_csv(name_before, index=False)\n",
    "    after.to_csv(name_after, index=False)"
   ]
  },
  {
   "cell_type": "code",
   "execution_count": null,
   "metadata": {},
   "outputs": [],
   "source": []
  }
 ],
 "metadata": {
  "kernelspec": {
   "display_name": "Python 3",
   "language": "python",
   "name": "python3"
  },
  "language_info": {
   "codemirror_mode": {
    "name": "ipython",
    "version": 3
   },
   "file_extension": ".py",
   "mimetype": "text/x-python",
   "name": "python",
   "nbconvert_exporter": "python",
   "pygments_lexer": "ipython3",
   "version": "3.6.3"
  }
 },
 "nbformat": 4,
 "nbformat_minor": 2
}
